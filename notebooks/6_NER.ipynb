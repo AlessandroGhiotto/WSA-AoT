{
 "cells": [
  {
   "cell_type": "markdown",
   "id": "314a68e3",
   "metadata": {},
   "source": [
    "# 6. Named entity recognition\n",
    "\n",
    "It can be very interesting to use Named Entity Recongition and Named Entity Linking for founding entities in our dataset and connect them to each other. For example what we can do is to create a character co-occurence graph, or also identifying the most important places in the world of Attack on Titan.\n",
    "\n",
    "**Table of contents:**\n",
    "- afasdfas\n",
    "- aaaaaaa"
   ]
  },
  {
   "cell_type": "code",
   "execution_count": null,
   "id": "56a15678",
   "metadata": {},
   "outputs": [],
   "source": [
    "import pandas as pd\n",
    "import pickle\n",
    "import matplotlib.pyplot as plt\n",
    "import seaborn as sns\n",
    "sns.set_style(\"darkgrid\")\n",
    "import networkx as nx\n",
    "from infomap import Infomap\n",
    "\n",
    "# load\n",
    "df_ending = pd.read_csv('../data/aot_ending.csv')\n",
    "df_ending['created_utc'] = pd.to_datetime(df_ending['created_utc'])\n",
    "df_comments = pd.read_csv('../data/comments_graph_ending_final.csv')\n",
    "df_comments['created_utc'] = pd.to_datetime(df_comments['created_utc'])\n",
    "G = pickle.load(open('../data/comments_graph.pickle', 'rb'))"
   ]
  },
  {
   "cell_type": "markdown",
   "id": "ada2a324",
   "metadata": {},
   "source": []
  }
 ],
 "metadata": {
  "kernelspec": {
   "display_name": "wsa_env2",
   "language": "python",
   "name": "python3"
  },
  "language_info": {
   "name": "python",
   "version": "3.9.22"
  }
 },
 "nbformat": 4,
 "nbformat_minor": 5
}
