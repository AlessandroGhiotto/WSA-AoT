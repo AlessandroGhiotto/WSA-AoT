{
 "cells": [
  {
   "cell_type": "markdown",
   "id": "314a68e3",
   "metadata": {},
   "source": [
    "# 6. Named entity recognition\n",
    "\n",
    "It can be very interesting to use Named Entity Recongition and Named Entity Linking for founding entities in our dataset and connect them to each other. For example what we can do is to create a character co-occurence graph, or also identifying the most important places in the world of Attack on Titan.\n",
    "\n",
    "**Table of contents:**\n",
    "- afasdfas\n",
    "- aaaaaaa"
   ]
  },
  {
   "cell_type": "code",
   "execution_count": null,
   "id": "56a15678",
   "metadata": {},
   "outputs": [],
   "source": [
    "import pandas as pd\n",
    "import pickle\n",
    "import matplotlib.pyplot as plt\n",
    "import seaborn as sns\n",
    "sns.set_style(\"darkgrid\")\n",
    "import networkx as nx\n",
    "\n",
    "# load\n",
    "df_ending = pd.read_csv('../data/aot_ending.csv')\n",
    "df_ending['created_utc'] = pd.to_datetime(df_ending['created_utc'])\n",
    "df_comments = pd.read_csv('../data/comments_graph_ending_final.csv')\n",
    "df_comments['created_utc'] = pd.to_datetime(df_comments['created_utc'])\n",
    "df_communities = pd.read_csv('../data/communities.csv')\n",
    "G = pickle.load(open('../data/comments_graph.pickle', 'rb'))"
   ]
  },
  {
   "cell_type": "code",
   "execution_count": 1,
   "id": "50abf247",
   "metadata": {},
   "outputs": [],
   "source": [
    "import spacy\n",
    "from spacy import displacy\n",
    "from collections import Counter\n",
    "import en_core_web_sm\n",
    "from pprint import pprint\n",
    "\n",
    "nlp = en_core_web_sm.load()"
   ]
  },
  {
   "cell_type": "code",
   "execution_count": 12,
   "id": "64ca41f6",
   "metadata": {},
   "outputs": [
    {
     "data": {
      "text/plain": [
       "0                 [(Armin Mikasa, PERSON), (Sea, LOC)]\n",
       "1       [(this season, DATE), (the next season, DATE)]\n",
       "2                                   [(Marley, PERSON)]\n",
       "3                                    [(one, CARDINAL)]\n",
       "4    [(Jean, PERSON), (Armin, PERSON), (end of seas...\n",
       "Name: entities, dtype: object"
      ]
     },
     "execution_count": 12,
     "metadata": {},
     "output_type": "execute_result"
    }
   ],
   "source": [
    "def extract_entities(text):\n",
    "    doc = nlp(text)\n",
    "    return [(X.text, X.label_) for X in doc.ents]\n",
    "\n",
    "df_comments['entities'] = df_comments['text_comment'].apply(extract_entities)\n",
    "df_comments['entities'][0:5]"
   ]
  },
  {
   "cell_type": "code",
   "execution_count": null,
   "id": "dda29541",
   "metadata": {},
   "outputs": [],
   "source": [
    "\n"
   ]
  }
 ],
 "metadata": {
  "kernelspec": {
   "display_name": "wsa_env2",
   "language": "python",
   "name": "python3"
  },
  "language_info": {
   "codemirror_mode": {
    "name": "ipython",
    "version": 3
   },
   "file_extension": ".py",
   "mimetype": "text/x-python",
   "name": "python",
   "nbconvert_exporter": "python",
   "pygments_lexer": "ipython3",
   "version": "3.9.22"
  }
 },
 "nbformat": 4,
 "nbformat_minor": 5
}
